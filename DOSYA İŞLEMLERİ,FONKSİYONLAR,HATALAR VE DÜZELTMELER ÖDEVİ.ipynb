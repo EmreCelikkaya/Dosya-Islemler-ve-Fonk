{
 "cells": [
  {
   "cell_type": "markdown",
   "metadata": {},
   "source": [
    "### 1-)Seçeceğiniz herhangi bir şiiri bilgisayarına .txt dsyası olarak kaydedin. Şiirin kaç dizeden oluştuğunu hesaplayın ve başka bir dosyaya her dizenin ilk kelimesini yazdırın."
   ]
  },
  {
   "cell_type": "code",
   "execution_count": 11,
   "metadata": {
    "scrolled": true
   },
   "outputs": [
    {
     "name": "stdout",
     "output_type": "stream",
     "text": [
      "Dize sayısı : 8\n"
     ]
    }
   ],
   "source": [
    "dize_sayısı = 0\n",
    "with open(\"beklenen.txt\", \"r\", encoding='latin1') as f:\n",
    "    for line in f:\n",
    "        if line.strip():\n",
    "            dize_sayısı += 1\n",
    "\n",
    "print ('Dize sayısı :',  dize_sayısı)"
   ]
  },
  {
   "cell_type": "code",
   "execution_count": 16,
   "metadata": {},
   "outputs": [
    {
     "name": "stdout",
     "output_type": "stream",
     "text": [
      "[]\n"
     ]
    }
   ],
   "source": [
    "with open(\"davet.txt\", \"r\") as f:\n",
    "      with open(\"davet.txt\", \"w\") as f1:\n",
    "              for line  in f:\n",
    "                f1.write(line.split(\" \")[0]+\"\\n\")  \n",
    "with open(\"davet.txt\", \"r\") as f2:\n",
    "    \n",
    "    print(f2.readlines())"
   ]
  },
  {
   "cell_type": "markdown",
   "metadata": {},
   "source": [
    "### 2-)Parametre olarak girilen bir sayının asal sayı olup olmadığını belirten bir fonksiyon yazın."
   ]
  },
  {
   "cell_type": "code",
   "execution_count": 20,
   "metadata": {},
   "outputs": [
    {
     "name": "stdout",
     "output_type": "stream",
     "text": [
      "Bir sayı giriniz:29\n",
      "Sayı asaldır\n"
     ]
    }
   ],
   "source": [
    "def asal_kontrol(sayi):\n",
    "    \n",
    "    for x in range(2,sayi//2+1):\n",
    "        if (sayi%x)==0:\n",
    "            print(\"Sayı asal değildir.\")\n",
    "            return\n",
    "    print(\"Sayı asaldır\")    \n",
    "    return\n",
    "\n",
    "\n",
    "X=int(input(\"Bir sayı giriniz:\"))\n",
    "asal_kontrol(X)"
   ]
  },
  {
   "cell_type": "markdown",
   "metadata": {},
   "source": [
    "### 3-)Parametre olarak girilecek listenin elemanlarını yeni bir listeye her değer sadece bir kere geçecek şekilde aktaran bir fonksiyon yazın. Normalde bu işlemi set() komutu ile yapabiliriz ama bu seferlik bu komutu kullanmayalım.\n",
    "\n",
    " Örnek : uniq_liste([1,2,2,3,3,4,4]) = [1,2,3,4]"
   ]
  },
  {
   "cell_type": "code",
   "execution_count": 12,
   "metadata": {},
   "outputs": [
    {
     "name": "stdout",
     "output_type": "stream",
     "text": [
      "[1, 2, 3, 4]\n"
     ]
    }
   ],
   "source": [
    "def uniq_liste(l):\n",
    "    x = []\n",
    "    for a in l:\n",
    "        if a not in x:\n",
    "            x.append(a)\n",
    "    return x\n",
    "\n",
    "print(uniq_liste([1,2,2,3,3,4,4]))"
   ]
  },
  {
   "cell_type": "markdown",
   "metadata": {},
   "source": [
    "### 4-)Python'da hazır birçok modül bulunmaktadır. Zaman ile ilgili modüllerden birisini import ederek, parametre olarak doğum tarihi alan ve yaşı döndüren bir fonksiyon yazınız."
   ]
  },
  {
   "cell_type": "code",
   "execution_count": 15,
   "metadata": {},
   "outputs": [
    {
     "name": "stdout",
     "output_type": "stream",
     "text": [
      "\n",
      "23\n",
      "33\n",
      "\n"
     ]
    }
   ],
   "source": [
    "from datetime import date\n",
    "\n",
    "def yas_hesapla(dtob):\n",
    "    today = date.today()\n",
    "    return today.year - dtob.year - ((today.month, today.day) < (dtob.month, dtob.day))\n",
    "print()\n",
    "print(yas_hesapla(date(1996,4,23)))\n",
    "print(yas_hesapla(date(1986,10,25)))\n",
    "print()"
   ]
  },
  {
   "cell_type": "code",
   "execution_count": 16,
   "metadata": {},
   "outputs": [
    {
     "name": "stdout",
     "output_type": "stream",
     "text": [
      "Yaşınız : 27\n"
     ]
    }
   ],
   "source": [
    "from datetime import date\n",
    "\n",
    "borndate=date(1992, 5, 2)\n",
    "today = date.today()\n",
    "yas=today.year - borndate.year - ((today.month, today.day) < (borndate.month, borndate.day))\n",
    "print(\"Yaşınız : {}\".format(yas))"
   ]
  },
  {
   "cell_type": "code",
   "execution_count": null,
   "metadata": {},
   "outputs": [],
   "source": []
  }
 ],
 "metadata": {
  "kernelspec": {
   "display_name": "Python 3",
   "language": "python",
   "name": "python3"
  },
  "language_info": {
   "codemirror_mode": {
    "name": "ipython",
    "version": 3
   },
   "file_extension": ".py",
   "mimetype": "text/x-python",
   "name": "python",
   "nbconvert_exporter": "python",
   "pygments_lexer": "ipython3",
   "version": "3.7.4"
  }
 },
 "nbformat": 4,
 "nbformat_minor": 2
}
